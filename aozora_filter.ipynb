{
 "cells": [
  {
   "cell_type": "code",
   "id": "initial_id",
   "metadata": {
    "collapsed": true,
    "ExecuteTime": {
     "end_time": "2025-06-08T00:24:47.288852Z",
     "start_time": "2025-06-08T00:24:46.630616Z"
    }
   },
   "source": [
    "import os\n",
    "import zipfile\n",
    "import shutil\n",
    "\n",
    "TARGET_WORDS = [\"自殺\"]\n",
    "SOURCE_FOLDER = \"Taisho_ready\"  # Папка с архивами\n",
    "DEST_FOLDER = \"Taisho_jisatsu\"  # Куда складывать подходящие архивы\n",
    "\n",
    "os.makedirs(DEST_FOLDER, exist_ok=True)\n",
    "\n",
    "def check_zip_for_keywords(zip_path):\n",
    "    with zipfile.ZipFile(zip_path, 'r') as archive:\n",
    "        txt_files = [f for f in archive.namelist() if f.endswith('.txt')]\n",
    "        if not txt_files:\n",
    "            return False\n",
    "\n",
    "        with archive.open(txt_files[0]) as file:\n",
    "            raw_bytes = file.read()\n",
    "            try:\n",
    "                text = raw_bytes.decode('shift_jis')\n",
    "            except UnicodeDecodeError:\n",
    "                text = raw_bytes.decode('cp932')\n",
    "                \n",
    "            return any(word in text for word in TARGET_WORDS)\n",
    "\n",
    "for root, _, files in os.walk(SOURCE_FOLDER):\n",
    "    for filename in files:\n",
    "        if filename.endswith(\".zip\"):\n",
    "            zip_path = os.path.join(root, filename)\n",
    "            if check_zip_for_keywords(zip_path):\n",
    "                print(f\"✅ {filename} — found keywords, moving.\")\n",
    "                # Копируем архив в папку назначения\n",
    "                shutil.copy(zip_path, os.path.join(DEST_FOLDER, filename))\n",
    "            else:\n",
    "                print(f\"❌ {filename} — no keywords found, skipped.\")\n"
   ],
   "outputs": [
    {
     "name": "stdout",
     "output_type": "stream",
     "text": [
      "✅ 図書カード：No.1261_1912.zip — found keywords, moving.\n",
      "✅ 図書カード：No.1263_1912.zip — found keywords, moving.\n",
      "✅ 図書カード：No.1264_1912.zip — found keywords, moving.\n",
      "✅ 図書カード：No.1266_1912.zip — found keywords, moving.\n",
      "✅ 図書カード：No.1269_1912.zip — found keywords, moving.\n",
      "✅ 図書カード：No.1397_1914.zip — found keywords, moving.\n",
      "✅ 図書カード：No.2929_1914.zip — found keywords, moving.\n",
      "✅ 図書カード：No.337_1913.zip — found keywords, moving.\n",
      "✅ 図書カード：No.398_1914.zip — found keywords, moving.\n",
      "✅ 図書カード：No.46300_1913.zip — found keywords, moving.\n",
      "✅ 図書カード：No.46894_1914.zip — found keywords, moving.\n",
      "✅ 図書カード：No.46897_1914.zip — found keywords, moving.\n",
      "✅ 図書カード：No.46898_1914.zip — found keywords, moving.\n",
      "✅ 図書カード：No.46900_1914.zip — found keywords, moving.\n",
      "✅ 図書カード：No.46904_1914.zip — found keywords, moving.\n",
      "✅ 図書カード：No.46908_1914.zip — found keywords, moving.\n",
      "✅ 図書カード：No.46909_1914.zip — found keywords, moving.\n",
      "✅ 図書カード：No.46910_1914.zip — found keywords, moving.\n",
      "✅ 図書カード：No.46913_1914.zip — found keywords, moving.\n",
      "✅ 図書カード：No.46915_1914.zip — found keywords, moving.\n",
      "✅ 図書カード：No.46972_1914.zip — found keywords, moving.\n",
      "✅ 図書カード：No.46978_1914.zip — found keywords, moving.\n",
      "✅ 図書カード：No.47287_1913.zip — found keywords, moving.\n",
      "✅ 図書カード：No.47505_1913.zip — found keywords, moving.\n",
      "✅ 図書カード：No.49863_1918.zip — found keywords, moving.\n",
      "❌ 図書カード：No.51895_1918.zip — no keywords found, skipped.\n",
      "✅ 図書カード：No.53192_1912.zip — found keywords, moving.\n",
      "✅ 図書カード：No.53449_1913.zip — found keywords, moving.\n",
      "✅ 図書カード：No.545_1913.zip — found keywords, moving.\n",
      "✅ 図書カード：No.54776_1921.zip — found keywords, moving.\n",
      "✅ 図書カード：No.54816_1921.zip — found keywords, moving.\n",
      "✅ 図書カード：No.56634_1915.zip — found keywords, moving.\n",
      "✅ 図書カード：No.56775_1915.zip — found keywords, moving.\n",
      "❌ 図書カード：No.60608_1918.zip — no keywords found, skipped.\n",
      "❌ 図書カード：No.60609_1918.zip — no keywords found, skipped.\n",
      "✅ 図書カード：No.639_1913.zip — found keywords, moving.\n",
      "✅ 図書カード：No.669_1913.zip — found keywords, moving.\n",
      "✅ 図書カード：No.701_1913.zip — found keywords, moving.\n",
      "✅ 図書カード：No.729_1913.zip — found keywords, moving.\n"
     ]
    }
   ],
   "execution_count": 6
  },
  {
   "metadata": {},
   "cell_type": "code",
   "outputs": [],
   "execution_count": null,
   "source": ", \"自害\"自殺",
   "id": "1794e6816be11085"
  }
 ],
 "metadata": {
  "kernelspec": {
   "display_name": "Python 3",
   "language": "python",
   "name": "python3"
  },
  "language_info": {
   "codemirror_mode": {
    "name": "ipython",
    "version": 2
   },
   "file_extension": ".py",
   "mimetype": "text/x-python",
   "name": "python",
   "nbconvert_exporter": "python",
   "pygments_lexer": "ipython2",
   "version": "2.7.6"
  }
 },
 "nbformat": 4,
 "nbformat_minor": 5
}
